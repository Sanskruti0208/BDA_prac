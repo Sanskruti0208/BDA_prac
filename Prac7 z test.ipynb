{
 "cells": [
  {
   "cell_type": "code",
   "execution_count": 1,
   "id": "f57fe0a4",
   "metadata": {},
   "outputs": [],
   "source": [
    "# Aim : To perform hypothesis testing using Z test."
   ]
  },
  {
   "cell_type": "code",
   "execution_count": 2,
   "id": "e25b3e13",
   "metadata": {},
   "outputs": [],
   "source": [
    "#Name : Sanskruti A. Tidke\n",
    "# Roll: 72\n",
    "#Sec : A"
   ]
  },
  {
   "cell_type": "markdown",
   "id": "64ed1853",
   "metadata": {},
   "source": [
    "# Z Test"
   ]
  },
  {
   "cell_type": "code",
   "execution_count": 3,
   "id": "38997cc7",
   "metadata": {},
   "outputs": [],
   "source": [
    "ages=[10,20,35,50,28,40,55,18,16,55,30,25,43,18,30,28,14,24,16,17,32,35,26,27,65,18,43,23,21,20,19,70]"
   ]
  },
  {
   "cell_type": "code",
   "execution_count": 4,
   "id": "8b149cc2",
   "metadata": {},
   "outputs": [
    {
     "data": {
      "text/plain": [
       "32"
      ]
     },
     "execution_count": 4,
     "metadata": {},
     "output_type": "execute_result"
    }
   ],
   "source": [
    "len(ages)"
   ]
  },
  {
   "cell_type": "code",
   "execution_count": 5,
   "id": "9bda5cfd",
   "metadata": {},
   "outputs": [
    {
     "name": "stdout",
     "output_type": "stream",
     "text": [
      "30.34375\n"
     ]
    }
   ],
   "source": [
    "import numpy as np\n",
    "ages_mean=np.mean(ages)\n",
    "print(ages_mean)"
   ]
  },
  {
   "cell_type": "code",
   "execution_count": 6,
   "id": "484359d5",
   "metadata": {},
   "outputs": [],
   "source": [
    "## Lets take sample\n",
    "\n",
    "sample_size=31\n",
    "age_sample=np.random.choice(ages,sample_size)"
   ]
  },
  {
   "cell_type": "code",
   "execution_count": 7,
   "id": "f85b6c49",
   "metadata": {},
   "outputs": [
    {
     "data": {
      "text/plain": [
       "array([18, 30, 20, 35, 10, 55, 40, 40, 70, 35, 55, 20, 35, 65, 65, 28, 30,\n",
       "       21, 55, 18, 25, 27, 30, 26, 25, 24, 23, 20, 32, 65, 18])"
      ]
     },
     "execution_count": 7,
     "metadata": {},
     "output_type": "execute_result"
    }
   ],
   "source": [
    "age_sample"
   ]
  },
  {
   "cell_type": "code",
   "execution_count": 8,
   "id": "4aabc714",
   "metadata": {},
   "outputs": [],
   "source": [
    "# from scipy.stats import ztest_1samp"
   ]
  },
  {
   "cell_type": "code",
   "execution_count": 9,
   "id": "e3cd1854",
   "metadata": {},
   "outputs": [
    {
     "name": "stdout",
     "output_type": "stream",
     "text": [
      "ztest 11.472909671665693\n",
      "P-value: 1.804866570441975e-30\n"
     ]
    }
   ],
   "source": [
    "\n",
    "from statsmodels.stats import weightstats as stests\n",
    "\n",
    "# Perform one-sample z-test\n",
    "ztest, p_value = stests.ztest(age_sample)\n",
    "\n",
    "# Print the results\n",
    "print(\"ztest\", ztest)\n",
    "print(\"P-value:\", p_value)"
   ]
  },
  {
   "cell_type": "code",
   "execution_count": 10,
   "id": "d07fc126",
   "metadata": {},
   "outputs": [
    {
     "name": "stdout",
     "output_type": "stream",
     "text": [
      " we are rejecting null hypothesis\n"
     ]
    }
   ],
   "source": [
    "if p_value < 0.05:    # alpha value is 0.05 or 5%    (Level of significance)\n",
    "    print(\" we are rejecting null hypothesis\")\n",
    "else:\n",
    "    print(\"we are accepting null hypothesis\")"
   ]
  },
  {
   "cell_type": "code",
   "execution_count": null,
   "id": "57e134aa",
   "metadata": {},
   "outputs": [],
   "source": []
  }
 ],
 "metadata": {
  "kernelspec": {
   "display_name": "Python 3 (ipykernel)",
   "language": "python",
   "name": "python3"
  },
  "language_info": {
   "codemirror_mode": {
    "name": "ipython",
    "version": 3
   },
   "file_extension": ".py",
   "mimetype": "text/x-python",
   "name": "python",
   "nbconvert_exporter": "python",
   "pygments_lexer": "ipython3",
   "version": "3.9.7"
  }
 },
 "nbformat": 4,
 "nbformat_minor": 5
}
